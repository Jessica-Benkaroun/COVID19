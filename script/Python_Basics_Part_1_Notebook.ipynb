{
  "cells": [
    {
      "cell_type": "markdown",
      "id": "3e028e8a",
      "metadata": {
        "id": "3e028e8a"
      },
      "source": [
        "# Python Basics"
      ]
    },
    {
      "cell_type": "markdown",
      "id": "0a0c800e",
      "metadata": {
        "id": "0a0c800e"
      },
      "source": [
        "### print() function displays."
      ]
    },
    {
      "cell_type": "code",
      "source": [
        "name=\"jessica\""
      ],
      "metadata": {
        "id": "wgkxOaezvELr"
      },
      "id": "wgkxOaezvELr",
      "execution_count": null,
      "outputs": []
    },
    {
      "cell_type": "code",
      "source": [
        "from google.colab import drive\n",
        "drive.mount('/content/drive')"
      ],
      "metadata": {
        "id": "iatVZOjJvztc"
      },
      "id": "iatVZOjJvztc",
      "execution_count": null,
      "outputs": []
    },
    {
      "cell_type": "code",
      "source": [
        "12+12"
      ],
      "metadata": {
        "id": "MQt1EjjVuqcR"
      },
      "id": "MQt1EjjVuqcR",
      "execution_count": null,
      "outputs": []
    },
    {
      "cell_type": "code",
      "execution_count": null,
      "id": "fa83ddc2",
      "metadata": {
        "id": "fa83ddc2"
      },
      "outputs": [],
      "source": [
        "print(\"Hello World!\")"
      ]
    },
    {
      "cell_type": "code",
      "execution_count": null,
      "id": "7f65f426",
      "metadata": {
        "id": "7f65f426"
      },
      "outputs": [],
      "source": [
        "print(print)"
      ]
    },
    {
      "cell_type": "code",
      "execution_count": null,
      "id": "874bc180",
      "metadata": {
        "id": "874bc180"
      },
      "outputs": [],
      "source": [
        "print(\"print\")"
      ]
    },
    {
      "cell_type": "markdown",
      "id": "b97a8790",
      "metadata": {
        "id": "b97a8790"
      },
      "source": [
        "### You can use \"\" or '' in your code. But choose one and stick to it."
      ]
    },
    {
      "cell_type": "code",
      "execution_count": null,
      "id": "f55a2a0b",
      "metadata": {
        "id": "f55a2a0b"
      },
      "outputs": [],
      "source": [
        "print(\"Hello World!')"
      ]
    },
    {
      "cell_type": "code",
      "execution_count": null,
      "id": "c40accdc",
      "metadata": {
        "id": "c40accdc"
      },
      "outputs": [],
      "source": [
        "print('Hello World!\")"
      ]
    },
    {
      "cell_type": "markdown",
      "id": "300e60c5",
      "metadata": {
        "id": "300e60c5"
      },
      "source": [
        "### You can not use \" and ' together."
      ]
    },
    {
      "cell_type": "markdown",
      "id": "49bff1a0",
      "metadata": {
        "id": "49bff1a0"
      },
      "source": [
        "Whats the differnce between these syntax?"
      ]
    },
    {
      "cell_type": "markdown",
      "id": "046cf681",
      "metadata": {
        "id": "046cf681"
      },
      "source": [
        "![image.png](attachment:image.png)"
      ]
    },
    {
      "cell_type": "code",
      "execution_count": null,
      "id": "c919ef94",
      "metadata": {
        "id": "c919ef94"
      },
      "outputs": [],
      "source": [
        "print(\"3.14\")"
      ]
    },
    {
      "cell_type": "code",
      "execution_count": null,
      "id": "b9370f5c",
      "metadata": {
        "id": "b9370f5c"
      },
      "outputs": [],
      "source": [
        "print(3.14)"
      ]
    },
    {
      "cell_type": "markdown",
      "id": "98a29abb",
      "metadata": {
        "id": "98a29abb"
      },
      "source": [
        "Same output?"
      ]
    },
    {
      "cell_type": "markdown",
      "id": "f3d506d2",
      "metadata": {
        "id": "f3d506d2"
      },
      "source": [
        "### type() function displays type of data"
      ]
    },
    {
      "cell_type": "code",
      "execution_count": null,
      "id": "5d737346",
      "metadata": {
        "id": "5d737346"
      },
      "outputs": [],
      "source": [
        "print(type(\"3.14\"))"
      ]
    },
    {
      "cell_type": "code",
      "execution_count": null,
      "id": "b03ca7b8",
      "metadata": {
        "id": "b03ca7b8"
      },
      "outputs": [],
      "source": [
        "print(type(3.14))"
      ]
    },
    {
      "cell_type": "code",
      "execution_count": null,
      "id": "049d1539",
      "metadata": {
        "id": "049d1539"
      },
      "outputs": [],
      "source": [
        "print(type(50))"
      ]
    },
    {
      "cell_type": "code",
      "execution_count": null,
      "id": "767163a8",
      "metadata": {
        "id": "767163a8"
      },
      "outputs": [],
      "source": [
        "print(type(\"50\"))"
      ]
    },
    {
      "cell_type": "code",
      "execution_count": null,
      "id": "df3aac86",
      "metadata": {
        "id": "df3aac86"
      },
      "outputs": [],
      "source": [
        "print(type(0))"
      ]
    },
    {
      "cell_type": "markdown",
      "id": "e19558ba",
      "metadata": {
        "id": "e19558ba"
      },
      "source": [
        "True and False Boolean Data Type"
      ]
    },
    {
      "cell_type": "code",
      "execution_count": null,
      "id": "95eb10da",
      "metadata": {
        "id": "95eb10da"
      },
      "outputs": [],
      "source": [
        "print(type(True))"
      ]
    },
    {
      "cell_type": "markdown",
      "id": "13926264",
      "metadata": {
        "id": "13926264"
      },
      "source": [
        "### Python is case sensitive. False is not the same as false"
      ]
    },
    {
      "cell_type": "code",
      "execution_count": null,
      "id": "3a47089e",
      "metadata": {
        "id": "3a47089e"
      },
      "outputs": [],
      "source": [
        "print(type(false))"
      ]
    },
    {
      "cell_type": "code",
      "execution_count": null,
      "id": "02938e83",
      "metadata": {
        "id": "02938e83"
      },
      "outputs": [],
      "source": [
        "print(type(False))"
      ]
    },
    {
      "cell_type": "markdown",
      "id": "93a3cede",
      "metadata": {
        "id": "93a3cede"
      },
      "source": [
        "## Escape characters"
      ]
    },
    {
      "cell_type": "code",
      "execution_count": null,
      "id": "d795ba5a",
      "metadata": {
        "id": "d795ba5a"
      },
      "outputs": [],
      "source": []
    },
    {
      "cell_type": "code",
      "execution_count": null,
      "id": "59d8755c",
      "metadata": {
        "id": "59d8755c"
      },
      "outputs": [],
      "source": [
        "print(\"The itsy bitsy spider\\nclimbed up the waterspout.\")\n",
        "\n",
        "print()\n",
        "\n",
        "print(\"Down came the rain\\nand washed the spider out.\")"
      ]
    },
    {
      "cell_type": "code",
      "execution_count": null,
      "id": "3039478a",
      "metadata": {
        "id": "3039478a"
      },
      "outputs": [],
      "source": [
        "print(\"The itsy bitsy spider\")\n",
        "print(\"climbed up the waterspout.\")\n"
      ]
    },
    {
      "cell_type": "code",
      "execution_count": null,
      "id": "c6605191",
      "metadata": {
        "id": "c6605191"
      },
      "outputs": [],
      "source": [
        "print(\"The itsy bitsy spider\\climbed up the waterspout.\")\n"
      ]
    },
    {
      "cell_type": "code",
      "execution_count": null,
      "id": "29c985cc",
      "metadata": {
        "id": "29c985cc"
      },
      "outputs": [],
      "source": [
        "print(\"\\\")\n"
      ]
    },
    {
      "cell_type": "markdown",
      "id": "1822db14",
      "metadata": {
        "id": "1822db14"
      },
      "source": [
        "Not allowed to use single \\ without any other character"
      ]
    },
    {
      "cell_type": "code",
      "execution_count": null,
      "id": "cc9eba51",
      "metadata": {
        "id": "cc9eba51"
      },
      "outputs": [],
      "source": [
        "print(\"\\\\\")"
      ]
    },
    {
      "cell_type": "code",
      "execution_count": null,
      "id": "f3023b65",
      "metadata": {
        "id": "f3023b65"
      },
      "outputs": [],
      "source": []
    },
    {
      "cell_type": "code",
      "execution_count": null,
      "id": "8d7aad6b",
      "metadata": {
        "scrolled": true,
        "id": "8d7aad6b"
      },
      "outputs": [],
      "source": [
        "print(\"The itsy bitsy spider\\\\nclimbed up the waterspout.\")\n",
        "print()\n",
        "print(\"Down came the rain\\\\nand washed the spider out.\")"
      ]
    },
    {
      "cell_type": "code",
      "execution_count": null,
      "id": "25cfeec4",
      "metadata": {
        "scrolled": true,
        "id": "25cfeec4"
      },
      "outputs": [],
      "source": [
        "print(\"The itsy bitsy spider\\nclimbed up the waterspout.\")\n",
        "\n",
        "print()\n",
        "\n",
        "print(\"Down came the rain\\nand washed the spider out.\")"
      ]
    },
    {
      "cell_type": "code",
      "execution_count": null,
      "id": "539479fb",
      "metadata": {
        "id": "539479fb"
      },
      "outputs": [],
      "source": [
        "print(\"The itsy bitsy spider\\n\\nclimbed up the waterspout.\")\n",
        "print()\n",
        "print(\"Down came the rain\\n\\nand washed the spider out.\")"
      ]
    },
    {
      "cell_type": "markdown",
      "id": "c868051b",
      "metadata": {
        "id": "c868051b"
      },
      "source": [
        "### \\' Single Quote Escape Character"
      ]
    },
    {
      "cell_type": "code",
      "execution_count": null,
      "id": "89ebb753",
      "metadata": {
        "id": "89ebb753"
      },
      "outputs": [],
      "source": [
        "print('My brother's birthday is 18th July.')"
      ]
    },
    {
      "cell_type": "code",
      "execution_count": null,
      "id": "fc6a9050",
      "metadata": {
        "id": "fc6a9050"
      },
      "outputs": [],
      "source": [
        "print('My brother\\'s birthday is 18th July.')"
      ]
    },
    {
      "cell_type": "code",
      "execution_count": null,
      "id": "47bee0ea",
      "metadata": {
        "id": "47bee0ea"
      },
      "outputs": [],
      "source": [
        "print(\"My brother's birthday is 18th July.\")"
      ]
    },
    {
      "cell_type": "code",
      "execution_count": null,
      "id": "1a84578c",
      "metadata": {
        "id": "1a84578c"
      },
      "outputs": [],
      "source": [
        "print(\"My brother\\'s birthday is 18th July.\")"
      ]
    },
    {
      "cell_type": "markdown",
      "id": "b372e09f",
      "metadata": {
        "id": "b372e09f"
      },
      "source": [
        "### \\t Tab"
      ]
    },
    {
      "cell_type": "code",
      "execution_count": null,
      "id": "e30ea45e",
      "metadata": {
        "id": "e30ea45e"
      },
      "outputs": [],
      "source": [
        "print(\"I have a red car.\")"
      ]
    },
    {
      "cell_type": "code",
      "execution_count": null,
      "id": "23daf4a7",
      "metadata": {
        "id": "23daf4a7"
      },
      "outputs": [],
      "source": [
        "print(\"I have \\t a red car.\")"
      ]
    },
    {
      "cell_type": "code",
      "execution_count": null,
      "id": "0a3ea1da",
      "metadata": {
        "id": "0a3ea1da"
      },
      "outputs": [],
      "source": [
        "print(\"I have   a red car.\")"
      ]
    },
    {
      "cell_type": "code",
      "execution_count": null,
      "id": "200d4256",
      "metadata": {
        "id": "200d4256"
      },
      "outputs": [],
      "source": [
        "print(\"Hello,\\nworld\\r!werwe\")"
      ]
    },
    {
      "cell_type": "markdown",
      "id": "f7b35a3b",
      "metadata": {
        "id": "f7b35a3b"
      },
      "source": [
        "## Arguments of print()"
      ]
    },
    {
      "cell_type": "code",
      "execution_count": null,
      "id": "099474f8",
      "metadata": {
        "id": "099474f8"
      },
      "outputs": [],
      "source": [
        "print(\"The itsy bitsy spider\" , \"climbed up\" , \"the waterspout.\")"
      ]
    },
    {
      "cell_type": "code",
      "execution_count": null,
      "id": "25f629c6",
      "metadata": {
        "id": "25f629c6"
      },
      "outputs": [],
      "source": [
        "print(\"The itsy bitsy spider\",\"climbed up\",\"the waterspout.\")"
      ]
    },
    {
      "cell_type": "code",
      "execution_count": null,
      "id": "18c3d75e",
      "metadata": {
        "id": "18c3d75e"
      },
      "outputs": [],
      "source": [
        "print(\"The itsy bitsy spider\",\"climbed up\",      \"the waterspout.\")"
      ]
    },
    {
      "cell_type": "raw",
      "id": "4cb6b6de",
      "metadata": {
        "id": "4cb6b6de"
      },
      "source": []
    },
    {
      "cell_type": "code",
      "execution_count": null,
      "id": "edd5df3c",
      "metadata": {
        "id": "edd5df3c"
      },
      "outputs": [],
      "source": [
        "print(\"The itsy bitsy spider\",\"climbed up\",\"the waterspout.\")"
      ]
    },
    {
      "cell_type": "code",
      "execution_count": null,
      "id": "cd9535fd",
      "metadata": {
        "id": "cd9535fd"
      },
      "outputs": [],
      "source": [
        "print(\"The itsy bitsy spider\" + \"climbed up\" + \"the waterspout.\")"
      ]
    },
    {
      "cell_type": "code",
      "execution_count": null,
      "id": "a97005c6",
      "metadata": {
        "id": "a97005c6"
      },
      "outputs": [],
      "source": [
        "print(\"My name is\", \"Python.\")\n",
        "print(\"Monty Python.\")"
      ]
    },
    {
      "cell_type": "code",
      "execution_count": null,
      "id": "2402d6c5",
      "metadata": {
        "id": "2402d6c5"
      },
      "outputs": [],
      "source": [
        "print(\"My name is\", \"Python.\", end=\" \")\n",
        "print(\"Monty Python.\")"
      ]
    },
    {
      "cell_type": "code",
      "execution_count": null,
      "id": "881b8099",
      "metadata": {
        "id": "881b8099"
      },
      "outputs": [],
      "source": [
        "print(\"My name is Yusuf.\", end=\"*\")\n",
        "print(\"I love Python.\", end=\"-\")\n",
        "\n",
        "\n",
        "print(\"I am learning in JustIT.\")"
      ]
    },
    {
      "cell_type": "code",
      "execution_count": null,
      "id": "d942ebc0",
      "metadata": {
        "id": "d942ebc0"
      },
      "outputs": [],
      "source": [
        "print(\"My name is Yusuf.\", \"I love Python.\", end=\" \")\n",
        "print(\"I am learning in JustIT.\")"
      ]
    },
    {
      "cell_type": "code",
      "execution_count": null,
      "id": "6e7c5146",
      "metadata": {
        "id": "6e7c5146"
      },
      "outputs": [],
      "source": [
        "print(\"My name is Yusuf.\", \"I love Python.\", end=3*\"\\n\")\n"
      ]
    },
    {
      "cell_type": "code",
      "execution_count": null,
      "id": "4318f5f9",
      "metadata": {
        "id": "4318f5f9"
      },
      "outputs": [],
      "source": [
        "print(\"My\", \"name\", \"is\", \"Monty\", \"Python.\", sep=\"-\")"
      ]
    },
    {
      "cell_type": "code",
      "execution_count": null,
      "id": "7c93062b",
      "metadata": {
        "id": "7c93062b"
      },
      "outputs": [],
      "source": [
        "print(\"My\", \"name\", \"is\", \"Monty\", \"Python.\", sep=\"\\n\")"
      ]
    },
    {
      "cell_type": "code",
      "execution_count": null,
      "id": "3b8b1d46",
      "metadata": {
        "id": "3b8b1d46"
      },
      "outputs": [],
      "source": [
        "print(\"My\", \"name\", \"is\", \"Monty\", \"Python.\", sep=\"\\t\")"
      ]
    },
    {
      "cell_type": "code",
      "execution_count": null,
      "id": "f640f9c3",
      "metadata": {
        "id": "f640f9c3"
      },
      "outputs": [],
      "source": []
    },
    {
      "cell_type": "markdown",
      "id": "ae9da694",
      "metadata": {
        "id": "ae9da694"
      },
      "source": [
        "Keyword argument must come after positional argument."
      ]
    },
    {
      "cell_type": "code",
      "execution_count": null,
      "id": "63b8957d",
      "metadata": {
        "id": "63b8957d"
      },
      "outputs": [],
      "source": [
        "print(\"My\", \"name\", sep=\"\\t\", \"is\", \"Monty\", \"Python.\")"
      ]
    },
    {
      "cell_type": "code",
      "execution_count": null,
      "id": "98d78236",
      "metadata": {
        "id": "98d78236"
      },
      "outputs": [],
      "source": [
        "print(\"My\", \"name\", \"is\",      \"Monty\",      \"Python.\", sep=\"*\")"
      ]
    },
    {
      "cell_type": "code",
      "execution_count": null,
      "id": "e1d1032e",
      "metadata": {
        "id": "e1d1032e"
      },
      "outputs": [],
      "source": [
        "print(\"My\", \"name\", \"is\", sep=\"_\", end=\"*\")\n",
        "print(\"Monty\", \"Python.\", sep=\"*\", end=\"*\\n\")"
      ]
    },
    {
      "cell_type": "code",
      "execution_count": null,
      "id": "700024cb",
      "metadata": {
        "id": "700024cb"
      },
      "outputs": [],
      "source": [
        "print(\"My\", \"name\", \"is\", sep=\"*\", end=\"_\")\n",
        "print(\"Monty\", \"Python.\", sep=\"\\n\", end=\"*\")"
      ]
    },
    {
      "cell_type": "code",
      "execution_count": null,
      "id": "582330d5",
      "metadata": {
        "id": "582330d5"
      },
      "outputs": [],
      "source": []
    },
    {
      "cell_type": "markdown",
      "id": "aa768fec",
      "metadata": {
        "id": "aa768fec"
      },
      "source": [
        "## Exercise ![image-2.png](attachment:image-2.png)"
      ]
    },
    {
      "cell_type": "code",
      "execution_count": null,
      "id": "ba3048d3",
      "metadata": {
        "id": "ba3048d3"
      },
      "outputs": [],
      "source": [
        "print(\"Programming***\",\"Essentials***\",\"in...\")\n",
        "print(\"\\n\")\n",
        "print(\"Python\")"
      ]
    },
    {
      "cell_type": "code",
      "execution_count": null,
      "id": "055ed62c",
      "metadata": {
        "id": "055ed62c"
      },
      "outputs": [],
      "source": [
        "print(\"Programming\",\"Essentials\",\"in\", sep=\"***\", end=\"...\\n\\n\\nPython\")"
      ]
    },
    {
      "cell_type": "code",
      "execution_count": null,
      "id": "eaa57a05",
      "metadata": {
        "id": "eaa57a05"
      },
      "outputs": [],
      "source": [
        "print(\"Programming***\",\"Essentials\", end=\"***\")\n",
        "\n",
        "print(\"in...\\n\")\n",
        "\n",
        "print(\"Python\", end=\"\\n\")"
      ]
    },
    {
      "cell_type": "markdown",
      "id": "319b7029",
      "metadata": {
        "id": "319b7029"
      },
      "source": [
        "## Python Arithmetic Operators"
      ]
    },
    {
      "cell_type": "code",
      "execution_count": null,
      "id": "bbcfc2cd",
      "metadata": {
        "id": "bbcfc2cd"
      },
      "outputs": [],
      "source": [
        "print(2+3)"
      ]
    },
    {
      "cell_type": "code",
      "execution_count": null,
      "id": "0aee49db",
      "metadata": {
        "id": "0aee49db"
      },
      "outputs": [],
      "source": [
        "print(2-3)"
      ]
    },
    {
      "cell_type": "code",
      "execution_count": null,
      "id": "5d74baff",
      "metadata": {
        "id": "5d74baff"
      },
      "outputs": [],
      "source": [
        "print(2*3)"
      ]
    },
    {
      "cell_type": "code",
      "execution_count": null,
      "id": "85139f3c",
      "metadata": {
        "id": "85139f3c"
      },
      "outputs": [],
      "source": [
        "print(12/3)"
      ]
    },
    {
      "cell_type": "code",
      "execution_count": null,
      "id": "42c6ed5d",
      "metadata": {
        "id": "42c6ed5d"
      },
      "outputs": [],
      "source": [
        "print(12%3)"
      ]
    },
    {
      "cell_type": "code",
      "execution_count": null,
      "id": "7e6c244f",
      "metadata": {
        "id": "7e6c244f"
      },
      "outputs": [],
      "source": [
        "print(7%3)"
      ]
    },
    {
      "cell_type": "code",
      "execution_count": null,
      "id": "3bd73a3b",
      "metadata": {
        "id": "3bd73a3b"
      },
      "outputs": [],
      "source": [
        "print(12%5)"
      ]
    },
    {
      "cell_type": "code",
      "execution_count": null,
      "id": "cd95375e",
      "metadata": {
        "id": "cd95375e"
      },
      "outputs": [],
      "source": [
        "print(2**3)"
      ]
    },
    {
      "cell_type": "code",
      "execution_count": null,
      "id": "6c5fba3a",
      "metadata": {
        "id": "6c5fba3a"
      },
      "outputs": [],
      "source": [
        "print(3**2)"
      ]
    },
    {
      "cell_type": "code",
      "execution_count": null,
      "id": "8721eb4a",
      "metadata": {
        "id": "8721eb4a"
      },
      "outputs": [],
      "source": [
        "print(10*90/100)"
      ]
    },
    {
      "cell_type": "code",
      "execution_count": null,
      "id": "c26b3485",
      "metadata": {
        "id": "c26b3485"
      },
      "outputs": [],
      "source": [
        "print(12/3)"
      ]
    },
    {
      "cell_type": "code",
      "execution_count": null,
      "id": "6cc1c1b0",
      "metadata": {
        "id": "6cc1c1b0"
      },
      "outputs": [],
      "source": [
        "print(12//3)"
      ]
    },
    {
      "cell_type": "markdown",
      "id": "28fad8ea",
      "metadata": {
        "id": "28fad8ea"
      },
      "source": [
        "How to round output into 2 decimal places?"
      ]
    },
    {
      "cell_type": "code",
      "execution_count": null,
      "id": "7d8bbbfa",
      "metadata": {
        "id": "7d8bbbfa"
      },
      "outputs": [],
      "source": [
        "print(14/3)"
      ]
    },
    {
      "cell_type": "code",
      "execution_count": null,
      "id": "8c147792",
      "metadata": {
        "id": "8c147792"
      },
      "outputs": [],
      "source": []
    },
    {
      "cell_type": "code",
      "execution_count": null,
      "id": "5aa5f3f0",
      "metadata": {
        "scrolled": true,
        "id": "5aa5f3f0"
      },
      "outputs": [],
      "source": [
        "print(14//3)"
      ]
    },
    {
      "cell_type": "code",
      "execution_count": null,
      "id": "7e6a8587",
      "metadata": {
        "id": "7e6a8587"
      },
      "outputs": [],
      "source": [
        "print(258//12)"
      ]
    },
    {
      "cell_type": "code",
      "execution_count": null,
      "id": "26a35a20",
      "metadata": {
        "id": "26a35a20"
      },
      "outputs": [],
      "source": [
        "print(258/12)"
      ]
    },
    {
      "cell_type": "markdown",
      "id": "c8a9e7f4",
      "metadata": {
        "id": "c8a9e7f4"
      },
      "source": [
        "### Comment"
      ]
    },
    {
      "cell_type": "markdown",
      "id": "2cc73935",
      "metadata": {
        "id": "2cc73935"
      },
      "source": [
        "Ctrl + / makes line a comment"
      ]
    },
    {
      "cell_type": "code",
      "execution_count": null,
      "id": "fb7c82cc",
      "metadata": {
        "id": "fb7c82cc"
      },
      "outputs": [],
      "source": [
        "# It calculates sum"
      ]
    },
    {
      "cell_type": "code",
      "execution_count": null,
      "id": "3c812c5a",
      "metadata": {
        "id": "3c812c5a"
      },
      "outputs": [],
      "source": [
        "#Get back to this later"
      ]
    },
    {
      "cell_type": "code",
      "execution_count": null,
      "id": "3d9a9a76",
      "metadata": {
        "id": "3d9a9a76"
      },
      "outputs": [],
      "source": [
        "# add question"
      ]
    },
    {
      "cell_type": "code",
      "execution_count": null,
      "id": "d7e5b99a",
      "metadata": {
        "id": "d7e5b99a"
      },
      "outputs": [],
      "source": [
        "2+3"
      ]
    },
    {
      "cell_type": "code",
      "execution_count": null,
      "id": "2f9ac62c",
      "metadata": {
        "id": "2f9ac62c"
      },
      "outputs": [],
      "source": []
    },
    {
      "cell_type": "markdown",
      "id": "d5294220",
      "metadata": {
        "id": "d5294220"
      },
      "source": [
        "## Variables"
      ]
    },
    {
      "cell_type": "code",
      "execution_count": null,
      "id": "c3385954",
      "metadata": {
        "id": "c3385954"
      },
      "outputs": [],
      "source": [
        "name = \"Yusuf\"\n",
        "age = 18\n",
        "location = \"UK\""
      ]
    },
    {
      "cell_type": "code",
      "execution_count": null,
      "id": "d396d46c",
      "metadata": {
        "id": "d396d46c"
      },
      "outputs": [],
      "source": [
        "print(name)"
      ]
    },
    {
      "cell_type": "code",
      "execution_count": null,
      "id": "959bc9c5",
      "metadata": {
        "id": "959bc9c5"
      },
      "outputs": [],
      "source": [
        "print(\"name\")"
      ]
    },
    {
      "cell_type": "code",
      "execution_count": null,
      "id": "07420506",
      "metadata": {
        "id": "07420506"
      },
      "outputs": [],
      "source": [
        "print(age)"
      ]
    },
    {
      "cell_type": "code",
      "execution_count": null,
      "id": "8e26ff99",
      "metadata": {
        "id": "8e26ff99"
      },
      "outputs": [],
      "source": [
        "location"
      ]
    },
    {
      "cell_type": "code",
      "execution_count": null,
      "id": "31d142a1",
      "metadata": {
        "id": "31d142a1"
      },
      "outputs": [],
      "source": [
        "print(location)"
      ]
    },
    {
      "cell_type": "code",
      "execution_count": null,
      "id": "6be90761",
      "metadata": {
        "id": "6be90761"
      },
      "outputs": [],
      "source": [
        "pi = 3.14"
      ]
    },
    {
      "cell_type": "code",
      "execution_count": null,
      "id": "3d052d9d",
      "metadata": {
        "id": "3d052d9d"
      },
      "outputs": [],
      "source": [
        "print(pi)"
      ]
    },
    {
      "cell_type": "code",
      "execution_count": null,
      "id": "4d252599",
      "metadata": {
        "id": "4d252599"
      },
      "outputs": [],
      "source": [
        "amiright = True"
      ]
    },
    {
      "cell_type": "code",
      "execution_count": null,
      "id": "7df81d92",
      "metadata": {
        "id": "7df81d92"
      },
      "outputs": [],
      "source": [
        "print(amiright)"
      ]
    },
    {
      "cell_type": "markdown",
      "id": "5bd9c232",
      "metadata": {
        "id": "5bd9c232"
      },
      "source": [
        "#### Exercise"
      ]
    },
    {
      "cell_type": "code",
      "execution_count": null,
      "id": "85806152",
      "metadata": {
        "id": "85806152"
      },
      "outputs": [],
      "source": [
        "my_age = 33\n",
        "\n",
        "your_age = 30\n",
        "\n",
        "my_age = your_age\n",
        "\n",
        "print(my_age)\n"
      ]
    },
    {
      "cell_type": "code",
      "execution_count": null,
      "id": "a537daf0",
      "metadata": {
        "id": "a537daf0"
      },
      "outputs": [],
      "source": []
    },
    {
      "cell_type": "markdown",
      "id": "f1ddf66f",
      "metadata": {
        "id": "f1ddf66f"
      },
      "source": [
        "Variable name can not contain a space"
      ]
    },
    {
      "cell_type": "code",
      "execution_count": null,
      "id": "0f415075",
      "metadata": {
        "id": "0f415075"
      },
      "outputs": [],
      "source": [
        "favorite movie = \"3 Idiots\" #Amir Khan movie"
      ]
    },
    {
      "cell_type": "code",
      "execution_count": null,
      "id": "dd25399e",
      "metadata": {
        "id": "dd25399e"
      },
      "outputs": [],
      "source": [
        "favorite_movie = \"3 Idiots\" #Amir Khan movie"
      ]
    },
    {
      "cell_type": "code",
      "execution_count": null,
      "id": "fd0af194",
      "metadata": {
        "id": "fd0af194"
      },
      "outputs": [],
      "source": [
        "print(favorite_movie)"
      ]
    },
    {
      "cell_type": "markdown",
      "id": "b05cc070",
      "metadata": {
        "id": "b05cc070"
      },
      "source": [
        "#### Exercise"
      ]
    },
    {
      "cell_type": "markdown",
      "id": "6126a7a6",
      "metadata": {
        "id": "6126a7a6"
      },
      "source": [
        "Design an algorithm to add two numbers and display the result."
      ]
    },
    {
      "cell_type": "code",
      "execution_count": null,
      "id": "7c9e3b22",
      "metadata": {
        "id": "7c9e3b22"
      },
      "outputs": [],
      "source": [
        "num1 = 14\n",
        "print(\"my first number is \", num1)\n",
        "num2 = 15\n",
        "print(\"my second number is \", num2)\n",
        "summation = num1+num2\n",
        "print(\"Addition of\", num1, \"and\", num2, \"is equal to\", sum, end=\".\")"
      ]
    },
    {
      "cell_type": "code",
      "execution_count": null,
      "id": "9e1f24fc",
      "metadata": {
        "id": "9e1f24fc"
      },
      "outputs": [],
      "source": [
        "# do not assign varabile to a function like in this exmaple (print = 21)"
      ]
    },
    {
      "cell_type": "code",
      "execution_count": null,
      "id": "5b919c00",
      "metadata": {
        "id": "5b919c00"
      },
      "outputs": [],
      "source": []
    },
    {
      "cell_type": "code",
      "execution_count": null,
      "id": "4e998a6f",
      "metadata": {
        "id": "4e998a6f"
      },
      "outputs": [],
      "source": [
        "#you can not assign a variable to keywords\n",
        "if = 10"
      ]
    },
    {
      "cell_type": "code",
      "execution_count": null,
      "id": "5adb858f",
      "metadata": {
        "id": "5adb858f"
      },
      "outputs": [],
      "source": [
        "My_name = \"Yusuf\""
      ]
    },
    {
      "cell_type": "code",
      "execution_count": null,
      "id": "253ffad3",
      "metadata": {
        "id": "253ffad3"
      },
      "outputs": [],
      "source": [
        "My_name"
      ]
    },
    {
      "cell_type": "code",
      "execution_count": null,
      "id": "44c79de0",
      "metadata": {
        "id": "44c79de0"
      },
      "outputs": [],
      "source": [
        "True = 12"
      ]
    },
    {
      "cell_type": "markdown",
      "id": "9497a5ac",
      "metadata": {
        "id": "9497a5ac"
      },
      "source": [
        "#### Exercise"
      ]
    },
    {
      "cell_type": "markdown",
      "id": "96f19bae",
      "metadata": {
        "id": "96f19bae"
      },
      "source": [
        "![image.png](attachment:image.png)"
      ]
    },
    {
      "cell_type": "code",
      "execution_count": null,
      "id": "485ac0b0",
      "metadata": {
        "id": "485ac0b0"
      },
      "outputs": [],
      "source": [
        "myName = \"Hubert Blaine Wolfeschlegelsteinhausenbergerdorff Sr\""
      ]
    },
    {
      "cell_type": "code",
      "execution_count": null,
      "id": "010666b5",
      "metadata": {
        "id": "010666b5"
      },
      "outputs": [],
      "source": [
        "print(myName)"
      ]
    },
    {
      "cell_type": "code",
      "execution_count": null,
      "id": "51f6ddbd",
      "metadata": {
        "id": "51f6ddbd"
      },
      "outputs": [],
      "source": [
        "print(type(myName))"
      ]
    },
    {
      "cell_type": "code",
      "execution_count": null,
      "id": "e07e5d60",
      "metadata": {
        "id": "e07e5d60"
      },
      "outputs": [],
      "source": [
        "print(len(myName))"
      ]
    },
    {
      "cell_type": "markdown",
      "id": "08cc1432",
      "metadata": {
        "id": "08cc1432"
      },
      "source": [
        "## input() function"
      ]
    },
    {
      "cell_type": "code",
      "execution_count": null,
      "id": "e72cc3a8",
      "metadata": {
        "id": "e72cc3a8"
      },
      "outputs": [],
      "source": [
        "print(\"Tell me anything...\")\n",
        "anything = input()\n",
        "print(\"Hmm...\", anything, \"... Really?\")\n"
      ]
    },
    {
      "cell_type": "code",
      "execution_count": null,
      "id": "2fcb0fe8",
      "metadata": {
        "id": "2fcb0fe8"
      },
      "outputs": [],
      "source": [
        "print(input())"
      ]
    },
    {
      "cell_type": "code",
      "execution_count": null,
      "id": "255b9521",
      "metadata": {
        "id": "255b9521"
      },
      "outputs": [],
      "source": [
        "anything = input(\"Tell me anything...\")\n",
        "print(\"Hmm...\", anything, \"...Really?\")\n"
      ]
    },
    {
      "cell_type": "code",
      "execution_count": null,
      "id": "853ce14f",
      "metadata": {
        "id": "853ce14f"
      },
      "outputs": [],
      "source": [
        "age = input(\"please enter your age...\")\n",
        "print(\"Hmm.. you are\", age, \"years old.\")"
      ]
    },
    {
      "cell_type": "code",
      "execution_count": null,
      "id": "8a8a90df",
      "metadata": {
        "id": "8a8a90df"
      },
      "outputs": [],
      "source": []
    },
    {
      "cell_type": "code",
      "execution_count": null,
      "id": "500de0f0",
      "metadata": {
        "id": "500de0f0"
      },
      "outputs": [],
      "source": [
        "time_hour = input(\"tell me time in hour. I will calculate in seconds.\")\n",
        "print(\"Hmm.. you are\", time_hour*60, \"years old.\")"
      ]
    },
    {
      "cell_type": "code",
      "execution_count": null,
      "id": "c4acf43a",
      "metadata": {
        "id": "c4acf43a"
      },
      "outputs": [],
      "source": [
        "time_second = input(\"tell me time in seconds. I will calculate in hours.\")\n",
        "print(\"Hmm.. you are\", time_second/60, \"years old.\")"
      ]
    },
    {
      "cell_type": "code",
      "execution_count": null,
      "id": "a470b536",
      "metadata": {
        "id": "a470b536"
      },
      "outputs": [],
      "source": [
        "anything = input(\"Enter a number: \")\n",
        "something = anything ** 2.0\n",
        "print(anything, \"to the power of 2 is\", something)\n"
      ]
    },
    {
      "cell_type": "code",
      "execution_count": null,
      "id": "7cbe6cd6",
      "metadata": {
        "id": "7cbe6cd6"
      },
      "outputs": [],
      "source": [
        "#add int function before input that will change datatype before storing\n",
        "anything = int(input(\"Enter a number: \"))\n",
        "something = anything ** 2.0\n",
        "print(anything, \"to the power of 2 is\", something)\n"
      ]
    },
    {
      "cell_type": "code",
      "execution_count": null,
      "id": "6ea681eb",
      "metadata": {
        "id": "6ea681eb"
      },
      "outputs": [],
      "source": [
        "#add int function before input that will change datatype before storing\n",
        "anything = int(input(\"Enter a number: \"))\n",
        "something = anything ** 2.0\n",
        "print(anything, \"to the power of 2 is\", something)\n"
      ]
    },
    {
      "cell_type": "code",
      "execution_count": null,
      "id": "55deb601",
      "metadata": {
        "id": "55deb601"
      },
      "outputs": [],
      "source": [
        "#add float function before input that will change datatype before storing\n",
        "anything = float(input(\"Enter a number: \"))\n",
        "something = anything ** 2.0\n",
        "print(anything, \"to the power of 2 is\", something)\n"
      ]
    },
    {
      "cell_type": "code",
      "execution_count": null,
      "id": "135355cf",
      "metadata": {
        "scrolled": true,
        "id": "135355cf"
      },
      "outputs": [],
      "source": [
        "anything = int(input(\"Enter a number: \"))\n",
        "\n",
        "\n",
        "\n",
        "something = anything ** 2.0\n",
        "\n",
        "\n",
        "\n",
        "print(anything, \"to the power of 2 is\", something)"
      ]
    },
    {
      "cell_type": "markdown",
      "id": "54defeee",
      "metadata": {
        "id": "54defeee"
      },
      "source": [
        "#### Exercise − Design a calculator that will get two numbers from user, make arithmetic operations and display the result.\n"
      ]
    },
    {
      "cell_type": "code",
      "execution_count": null,
      "id": "551986fc",
      "metadata": {
        "id": "551986fc"
      },
      "outputs": [],
      "source": []
    },
    {
      "cell_type": "code",
      "execution_count": null,
      "id": "92da5fc5",
      "metadata": {
        "id": "92da5fc5"
      },
      "outputs": [],
      "source": [
        "print(\"Simple Addition Calculator\")\n",
        "\n",
        "\n",
        "\n",
        "try:\n",
        "\n",
        "    num1 = int(input(\"Enter the first number: \"))\n",
        "\n",
        "    num2 = int(input(\"Enter the second number: \"))\n",
        "\n",
        "    result = num1 + num2\n",
        "\n",
        "    print(\"Result:\", result)\n",
        "\n",
        "except ValueError:\n",
        "\n",
        "    print(\"Invalid input. Please enter valid integers.\")\n",
        "\n"
      ]
    },
    {
      "cell_type": "code",
      "execution_count": null,
      "id": "666deeb7",
      "metadata": {
        "scrolled": true,
        "id": "666deeb7"
      },
      "outputs": [],
      "source": [
        "anything = int(input (\"Enter a number:\"))\n",
        "\n",
        "something = anything / 11\n",
        "\n",
        "print(anything, \"divided by 11 is\", something)"
      ]
    },
    {
      "cell_type": "code",
      "execution_count": null,
      "id": "b5cd6cbb",
      "metadata": {
        "id": "b5cd6cbb"
      },
      "outputs": [],
      "source": [
        "x = float(input(\"Enter number 1: \"))\n",
        "\n",
        "y = float(input(\"Enter number 2: \"))\n",
        "\n",
        "sum = float(x+y)\n",
        "\n",
        "\n",
        "\n",
        "print(\"Sum of x and y = \", x+y)\n",
        "\n",
        "print(\"Sum of x and y\", sum)"
      ]
    },
    {
      "cell_type": "code",
      "execution_count": null,
      "id": "aeee5446",
      "metadata": {
        "id": "aeee5446"
      },
      "outputs": [],
      "source": [
        "anything1 = int(input(\"Enter a number: \"))\n",
        "anything2 = int(input(\"Enter a number: \"))\n",
        "\n",
        "\n",
        "\n",
        "output = anything1 + anything2\n",
        "\n",
        "\n",
        "\n",
        "print(\"Your inputs are\", anything1, \"and\", anything2, \"\\nThe total of your two inputs is\", output)\n"
      ]
    },
    {
      "cell_type": "code",
      "execution_count": null,
      "id": "0406d8aa",
      "metadata": {
        "id": "0406d8aa"
      },
      "outputs": [],
      "source": [
        "# This function adds two numbers\n",
        "def add(x, y):\n",
        "    return x + y\n",
        "\n",
        "# This function subtracts two numbers\n",
        "def subtract(x, y):\n",
        "    return x - y\n",
        "\n",
        "# This function multiplies two numbers\n",
        "def multiply(x, y):\n",
        "    return x * y\n",
        "\n",
        "# This function divides two numbers\n",
        "def divide(x, y):\n",
        "    return x / y\n",
        "\n",
        "\n",
        "print(\"Select operation.\")\n",
        "print(\"1.Add\")\n",
        "print(\"2.Subtract\")\n",
        "print(\"3.Multiply\")\n",
        "print(\"4.Divide\")\n",
        "\n",
        "while True:\n",
        "    # take input from the user\n",
        "    choice = input(\"Enter choice(1/2/3/4): \")\n",
        "\n",
        "    # check if choice is one of the four options\n",
        "    if choice in ('1', '2', '3', '4'):\n",
        "        try:\n",
        "            num1 = float(input(\"Enter first number: \"))\n",
        "            num2 = float(input(\"Enter second number: \"))\n",
        "        except ValueError:\n",
        "            print(\"Invalid input. Please enter a number.\")\n",
        "            continue\n",
        "\n",
        "        if choice == '1':\n",
        "            print(num1, \"+\", num2, \"=\", add(num1, num2))\n",
        "\n",
        "        elif choice == '2':\n",
        "            print(num1, \"-\", num2, \"=\", subtract(num1, num2))\n",
        "\n",
        "        elif choice == '3':\n",
        "            print(num1, \"*\", num2, \"=\", multiply(num1, num2))\n",
        "\n",
        "        elif choice == '4':\n",
        "            print(num1, \"/\", num2, \"=\", divide(num1, num2))\n",
        "\n",
        "        # check if user wants another calculation\n",
        "        # break the while loop if answer is no\n",
        "        next_calculation = input(\"Let's do next calculation? (yes/no): \")\n",
        "        if next_calculation == \"no\":\n",
        "          break\n",
        "    else:\n",
        "        print(\"Invalid Input\")"
      ]
    },
    {
      "cell_type": "code",
      "execution_count": null,
      "id": "146908f6",
      "metadata": {
        "id": "146908f6"
      },
      "outputs": [],
      "source": [
        "number1= int(input(\"Enter the first number:\"))\n",
        "\n",
        "number2= int(input(\"Enter the second number:\"))\n",
        "\n",
        "sum=number1+number2;\n",
        "\n",
        "print(\"Addition\",sum)\n",
        "\n",
        "sub=number1-number2;\n",
        "\n",
        "print(\"subtraction:\",sub)\n",
        "\n",
        "multipication=number1*number2;\n",
        "\n",
        "print(\"multiplication:\",multipication)\n",
        "\n",
        "division=number1/number2;\n",
        "\n",
        "print(\"Division:\",float(division))"
      ]
    },
    {
      "cell_type": "code",
      "execution_count": null,
      "id": "abab75e7",
      "metadata": {
        "id": "abab75e7"
      },
      "outputs": [],
      "source": [
        "print(\"Yusuf\", \"Satilmis\")\n",
        "print(\"Yusuf\" + \"Satilmis\")\n",
        "\n",
        "print(\"3\", 4)\n",
        "\n",
        "print(3+4)\n",
        "\n",
        "print(\"3\"+ 4 )"
      ]
    },
    {
      "cell_type": "code",
      "execution_count": null,
      "id": "707dbb5e",
      "metadata": {
        "id": "707dbb5e"
      },
      "outputs": [],
      "source": []
    },
    {
      "cell_type": "code",
      "execution_count": null,
      "id": "94a6a9fe",
      "metadata": {
        "id": "94a6a9fe"
      },
      "outputs": [],
      "source": []
    }
  ],
  "metadata": {
    "kernelspec": {
      "display_name": "Python 3 (ipykernel)",
      "language": "python",
      "name": "python3"
    },
    "language_info": {
      "codemirror_mode": {
        "name": "ipython",
        "version": 3
      },
      "file_extension": ".py",
      "mimetype": "text/x-python",
      "name": "python",
      "nbconvert_exporter": "python",
      "pygments_lexer": "ipython3",
      "version": "3.9.13"
    },
    "colab": {
      "provenance": []
    }
  },
  "nbformat": 4,
  "nbformat_minor": 5
}